{
 "cells": [
  {
   "cell_type": "code",
   "execution_count": 19,
   "metadata": {},
   "outputs": [
    {
     "name": "stdout",
     "output_type": "stream",
     "text": [
      "Hello World!\n"
     ]
    }
   ],
   "source": [
    "# ASSIGNMENT NO 01 \n",
    ">>> print(\"Hello World!\")"
   ]
  },
  {
   "cell_type": "code",
   "execution_count": 20,
   "metadata": {},
   "outputs": [
    {
     "name": "stdout",
     "output_type": "stream",
     "text": [
      "Twinkle, twinkle, little star, \n",
      "\t How I wonder what you are! \n",
      "\t\t Up above the world so high, \n",
      "\t\t Like a diamond in the sky. \n",
      " Twinkle, twinkle, little star, \n",
      "\t How I wonder what you are\n"
     ]
    }
   ],
   "source": [
    "# QUESTION NO 01 \n",
    "a=\"Twinkle, twinkle, little star,\"\n",
    "b=\"How I wonder what you are!\"\n",
    "c=\"Up above the world so high,\"\n",
    "d=\"Like a diamond in the sky.\"\n",
    "e=\"Twinkle, twinkle, little star,\"\n",
    "f=\"How I wonder what you are\"\n",
    "g=(a+\" \\n\\t \"+b+\" \\n\\t\\t \"+c+\" \\n\\t\\t \"+d+\" \\n \"+e+\" \\n\\t \"+f)\n",
    "print(g)"
   ]
  },
  {
   "cell_type": "code",
   "execution_count": 5,
   "metadata": {},
   "outputs": [
    {
     "name": "stdout",
     "output_type": "stream",
     "text": [
      "3.7.4\n"
     ]
    }
   ],
   "source": [
    "# QUESTION NO 02\n",
    "from platform import python_version\n",
    "print(python_version())"
   ]
  },
  {
   "cell_type": "code",
   "execution_count": 1,
   "metadata": {},
   "outputs": [
    {
     "name": "stdout",
     "output_type": "stream",
     "text": [
      "2019-11-05 04:13:35.807253\n"
     ]
    }
   ],
   "source": [
    "# QUESTION NO 03\n",
    "from datetime import python_version\n",
    "now= datetime.now()\n",
    "print(now)"
   ]
  },
  {
   "cell_type": "code",
   "execution_count": 6,
   "metadata": {},
   "outputs": [
    {
     "name": "stdout",
     "output_type": "stream",
     "text": [
      "Enter radius of a circle4\n",
      "area of a circle is 50.24\n"
     ]
    }
   ],
   "source": [
    "# QUESTION NO 04\n",
    "x=input(\"Enter radius of a circle\")\n",
    "r=int(x)\n",
    "a=3.14*r**2\n",
    "print(\"area of a circle is\",a)"
   ]
  },
  {
   "cell_type": "code",
   "execution_count": 17,
   "metadata": {},
   "outputs": [
    {
     "name": "stdout",
     "output_type": "stream",
     "text": [
      "baig moroojo         aftab\n"
     ]
    }
   ],
   "source": [
    "# QUESTION NO 05\n",
    "first_name= \"aftab\"\n",
    "last_name= \"baig moroojo\"\n",
    "full_name=(last_name+\"         \"+first_name)\n",
    "print(full_name)"
   ]
  },
  {
   "cell_type": "code",
   "execution_count": 21,
   "metadata": {},
   "outputs": [
    {
     "name": "stdout",
     "output_type": "stream",
     "text": [
      "Enter number 1: 160\n",
      "Enter number 2: 140\n",
      "160+140=300\n"
     ]
    }
   ],
   "source": [
    "number_1=int(input(\"Enter number 1: \"))\n",
    "number_2=int(input(\"Enter number 2: \"))\n",
    "total_number=number_1 + number_2\n",
    "print(\"{0}+{1}={2}\".format(number_1,number_2,total_number))"
   ]
  }
 ],
 "metadata": {
  "kernelspec": {
   "display_name": "Python 3",
   "language": "python",
   "name": "python3"
  },
  "language_info": {
   "codemirror_mode": {
    "name": "ipython",
    "version": 3
   },
   "file_extension": ".py",
   "mimetype": "text/x-python",
   "name": "python",
   "nbconvert_exporter": "python",
   "pygments_lexer": "ipython3",
   "version": "3.7.4"
  }
 },
 "nbformat": 4,
 "nbformat_minor": 2
}
